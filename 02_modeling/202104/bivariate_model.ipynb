{
    "cells": [
        {
            "attachments": {},
            "cell_type": "markdown",
            "metadata": {},
            "source": [
                "# Fit bivariate Matern to empirical (cross-) semivariograms"
            ]
        },
        {
            "cell_type": "code",
            "execution_count": null,
            "metadata": {},
            "outputs": [],
            "source": [
                "import sys\n",
                "\n",
                "sys.path.insert(0, \"../../source\")\n"
            ]
        },
        {
            "cell_type": "code",
            "execution_count": null,
            "metadata": {},
            "outputs": [],
            "source": [
                "import pickle\n",
                "import xarray as xr\n",
                "\n",
                "import fields\n",
                "import model\n",
                "import plot\n"
            ]
        },
        {
            "cell_type": "code",
            "execution_count": null,
            "metadata": {},
            "outputs": [],
            "source": [
                "# maximum distance between pairs of points used in variograms\n",
                "MAX_DIST = 1000\n",
                "# number of bins in variograms\n",
                "N_BINS = 30\n",
                "# optimization bounds for model parameters\n",
                "PARAM_BOUNDS = dict(\n",
                "    rho=(1e-8, 1.0),\n",
                "    nu=[(0.3, 0.95), (0.5, 1.5), (0.3, 0.95)],\n",
                "    len_scale=(10, 300),\n",
                ")\n",
                "\n",
                "# data selection\n",
                "YEAR = 2021\n",
                "MONTH = 4\n",
                "# XCO2 months ahead of SIF\n",
                "OFFSET = 1\n",
                "\n",
                "year_month_str = f\"{YEAR}0{MONTH}\" if MONTH < 10 else f\"{YEAR}{MONTH}\"\n"
            ]
        },
        {
            "cell_type": "code",
            "execution_count": null,
            "metadata": {},
            "outputs": [],
            "source": [
                "month_xco2 = MONTH + OFFSET\n",
                "date_sif = f\"{YEAR}-{MONTH}-01\"\n",
                "date_xco2 = f\"{YEAR}-{month_xco2}-01\"\n",
                "\n",
                "with xr.open_dataset(\n",
                "    \"../../data/intermediate/OCO2_005deg_months2021_north_america_with_basis.nc4\"\n",
                ") as ds:\n",
                "    basis_vars = [x for x in list(ds.keys()) if x.startswith(\"B\")]\n",
                "    ds_sif = (\n",
                "        ds[[\"sif\", \"sif_var\"] + basis_vars]\n",
                "        .sel(time=f\"{YEAR}-{MONTH}\")\n",
                "        .squeeze()\n",
                "        .drop_vars([\"B1\", \"B10\", \"B20\"])\n",
                "    )\n",
                "    ds_xco2 = ds[[\"xco2\", \"xco2_var\"] + basis_vars].sel(time=f\"{YEAR}-{month_xco2}\").squeeze()\n"
            ]
        },
        {
            "cell_type": "code",
            "execution_count": null,
            "metadata": {},
            "outputs": [],
            "source": [
                "ds_sif\n"
            ]
        },
        {
            "cell_type": "code",
            "execution_count": null,
            "metadata": {},
            "outputs": [],
            "source": [
                "ds_xco2\n"
            ]
        },
        {
            "cell_type": "code",
            "execution_count": null,
            "metadata": {},
            "outputs": [],
            "source": [
                "title = f\"OCO-2 SIF Lite v10r, 0.05-Degree Month Average {date_sif}\"\n",
                "units = \"SIF 740nm [W/m$^2$/sr/$\\mu$m]\"\n",
                "plot.plot_da(ds_sif[\"sif\"], vmin=0, robust=True, title=title, label=units)\n"
            ]
        },
        {
            "cell_type": "code",
            "execution_count": null,
            "metadata": {},
            "outputs": [],
            "source": [
                "title = f\"OCO-2 XCO$_2$ Lite v10r, 0.05-Degree Month Average {date_xco2}\"\n",
                "units = \"XCO$_2$ [ppm]\"\n",
                "plot.plot_da(ds_xco2[\"xco2\"], robust=True, title=title, label=units)\n"
            ]
        },
        {
            "cell_type": "code",
            "execution_count": null,
            "metadata": {},
            "outputs": [],
            "source": [
                "# modeling setup\n",
                "datasets = [ds_sif, ds_xco2]\n",
                "timedeltas = [0, OFFSET]\n",
                "\n",
                "vario_config = fields.VarioConfig(MAX_DIST, N_BINS, n_procs=2)\n",
                "mf = fields.MultiField(datasets, date_sif, timedeltas)\n",
                "plot.plot_fields(mf, [\"SIF\", \"XCO2\"])\n"
            ]
        },
        {
            "cell_type": "code",
            "execution_count": null,
            "metadata": {},
            "outputs": [],
            "source": [
                "df_sif_res = mf.fields[0].to_dataframe()[[\"lon\", \"lat\", \"sif\"]]\n",
                "df_sif_res[\"sif\"].describe()\n"
            ]
        },
        {
            "cell_type": "code",
            "execution_count": null,
            "metadata": {},
            "outputs": [],
            "source": [
                "# construct the empirical (cross-) semivariograms\n",
                "gamma = mf.empirical_variograms(vario_config)\n",
                "gamma.df.to_csv(f\"../../data/intermediate/models/{year_month_str}/variograms.csv\")\n"
            ]
        },
        {
            "cell_type": "code",
            "execution_count": null,
            "metadata": {},
            "outputs": [],
            "source": [
                "# fit the model via multivariate WLS\n",
                "bivariate_matern = model.MultivariateMatern(n_procs=2)\n",
                "bivariate_matern.params.set_bounds(**PARAM_BOUNDS)\n",
                "bivariate_matern.fit(gamma)\n",
                "df_params = bivariate_matern.params.to_dataframe()\n",
                "df_params.to_csv(f\"../../data/intermediate/models/{year_month_str}/bivariate_model.csv\")\n",
                "df_params\n"
            ]
        },
        {
            "cell_type": "code",
            "execution_count": null,
            "metadata": {},
            "outputs": [],
            "source": [
                "title = (\n",
                "    f\"(Cross-) Semivariograms for SIF and XCO$_2$ Residuals, 0.05-Degree Resolution, \"\n",
                "    f\"North America, {date_sif}\"\n",
                ")\n",
                "plot.plot_variograms(bivariate_matern.fit_result, [\"SIF\", \"XCO$_2$\"], title=title)\n"
            ]
        },
        {
            "attachments": {},
            "cell_type": "markdown",
            "metadata": {},
            "source": [
                "## Save the fields, semivariograms, and model"
            ]
        },
        {
            "cell_type": "code",
            "execution_count": null,
            "metadata": {},
            "outputs": [],
            "source": [
                "with open(f\"../../data/intermediate/models/{year_month_str}/fields.pickle\", \"wb\") as f:\n",
                "    pickle.dump(mf, f, protocol=pickle.HIGHEST_PROTOCOL)\n",
                "\n",
                "with open(f\"../../data/intermediate/models/{year_month_str}/variograms.pickle\", \"wb\") as f:\n",
                "    pickle.dump(gamma, f, protocol=pickle.HIGHEST_PROTOCOL)\n",
                "\n",
                "with open(f\"../../data/intermediate/models/{year_month_str}/bivariate_model.pickle\", \"wb\") as f:\n",
                "    pickle.dump(bivariate_matern, f, protocol=pickle.HIGHEST_PROTOCOL)\n"
            ]
        }
    ],
    "metadata": {
        "kernelspec": {
            "display_name": "Python 3.9.13 ('geostat')",
            "language": "python",
            "name": "python3"
        },
        "language_info": {
            "codemirror_mode": {
                "name": "ipython",
                "version": 3
            },
            "file_extension": ".py",
            "mimetype": "text/x-python",
            "name": "python",
            "nbconvert_exporter": "python",
            "pygments_lexer": "ipython3",
            "version": "3.9.16"
        },
        "orig_nbformat": 4,
        "vscode": {
            "interpreter": {
                "hash": "294b043c4eeec97971cbabc1052da2b5b80b0d5aa6b8a4a08ec44e7eeeb652a0"
            }
        }
    },
    "nbformat": 4,
    "nbformat_minor": 2
}
