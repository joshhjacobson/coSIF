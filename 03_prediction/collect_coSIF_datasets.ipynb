{
 "cells": [
  {
   "cell_type": "code",
   "execution_count": null,
   "metadata": {},
   "outputs": [],
   "source": [
    "import numpy as np\n",
    "import pandas as pd\n",
    "import xarray as xr\n"
   ]
  },
  {
   "attachments": {},
   "cell_type": "markdown",
   "metadata": {},
   "source": [
    "## Collect predictions; format and save coSIF datasets"
   ]
  },
  {
   "cell_type": "code",
   "execution_count": null,
   "metadata": {},
   "outputs": [],
   "source": [
    "format_time = lambda ds: ds.expand_dims(month=[pd.to_datetime(ds[\"time\"].data)], axis=-1)\n",
    "ds_predictions = xr.open_mfdataset(\n",
    "    \"../data/production/*riging_results_*.nc4\", preprocess=format_time\n",
    ")\n",
    "ds_predictions\n"
   ]
  },
  {
   "cell_type": "code",
   "execution_count": null,
   "metadata": {},
   "outputs": [],
   "source": [
    "months = [\"202102\", \"202104\", \"202107\", \"202110\"]\n",
    "\n",
    "for m in months:\n",
    "    ds = ds_predictions.sel(month=m)[[\"predictions\", \"rmspe\"]].rename(\n",
    "        {\"predictions\": \"cosif_prediction\", \"rmspe\": \"cosif_rmspe\"}\n",
    "    )\n",
    "    display(ds)\n",
    "    # .to_netcdf(\"../data/production/coSIF_{m}.nc4\")\n"
   ]
  },
  {
   "attachments": {},
   "cell_type": "markdown",
   "metadata": {},
   "source": [
    "## Calculate average standard error ratios (compared to the data)"
   ]
  },
  {
   "cell_type": "code",
   "execution_count": null,
   "metadata": {},
   "outputs": [],
   "source": [
    "with xr.open_dataset(\n",
    "    \"../data/production/OCO2_005deg_monthly_north_america_with_basis.nc4\"\n",
    ") as ds:\n",
    "    ds_data = ds.rename(time=\"month\").sel(month=ds_predictions.month)\n",
    "\n",
    "ds_data\n"
   ]
  },
  {
   "cell_type": "code",
   "execution_count": null,
   "metadata": {},
   "outputs": [],
   "source": [
    "# NOTE: groupby month when we have all predictions again\n",
    "\n",
    "# NOTE: \"sif_var\" is a misnomer, it is actually the standard error\n",
    "df_se = (\n",
    "    xr.merge([ds_predictions[\"mspe\"], ds_data[\"sif_var\"]])\n",
    "    .squeeze()\n",
    "    .astype(np.float64)\n",
    "    .to_dataframe()\n",
    "    .reset_index()\n",
    "    .drop(columns=[\"month\", \"time\"])\n",
    "    .dropna(subset=\"sif_var\")\n",
    ")\n",
    "df_se[\"rmspe\"] = np.sqrt(df_se[\"mspe\"])\n",
    "df_se[\"se_ratio\"] = df_se[\"rmspe\"] / df_se[\"sif_var\"]\n",
    "df_se[\"se_ratio\"].mean()\n"
   ]
  }
 ],
 "metadata": {
  "kernelspec": {
   "display_name": "geostat",
   "language": "python",
   "name": "python3"
  },
  "language_info": {
   "name": "python",
   "version": "3.9.13"
  },
  "orig_nbformat": 4
 },
 "nbformat": 4,
 "nbformat_minor": 2
}
