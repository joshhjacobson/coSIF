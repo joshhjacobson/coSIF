{
 "cells": [
  {
   "cell_type": "code",
   "execution_count": null,
   "metadata": {},
   "outputs": [],
   "source": [
    "import numpy as np\n",
    "import pandas as pd\n",
    "import xarray as xr\n",
    "\n",
    "import matplotlib.pyplot as plt\n",
    "import matplotlib.gridspec as gridspec\n",
    "import matplotlib.ticker as mticker\n",
    "import seaborn as sns\n",
    "import cartopy.crs as ccrs\n",
    "import cartopy.feature as cfeature\n",
    "from cartopy.mpl.gridliner import LONGITUDE_FORMATTER, LATITUDE_FORMATTER\n",
    "from cmcrameri import cm\n"
   ]
  },
  {
   "cell_type": "code",
   "execution_count": null,
   "metadata": {},
   "outputs": [],
   "source": [
    "PROJECTION = ccrs.PlateCarree()\n",
    "\n",
    "\n",
    "def prep_axes(ax, extents=[-125, -65, 22, 58], grid=False):\n",
    "    ax.set_extent(extents, crs=ccrs.PlateCarree())\n",
    "    ax.add_feature(cfeature.COASTLINE.with_scale(\"50m\"), edgecolor=\"gray\", zorder=2)\n",
    "    ax.spines[:].set_color(\"gray\")\n",
    "    if grid:\n",
    "        gl = ax.gridlines(\n",
    "            crs=PROJECTION,\n",
    "            linewidth=0.8,\n",
    "            color=\"gray\",\n",
    "            alpha=0.5,\n",
    "            linestyle=\"--\",\n",
    "            draw_labels=True,\n",
    "            zorder=0,\n",
    "        )\n",
    "        gl.top_labels = False\n",
    "        gl.bottom_labels = True\n",
    "        gl.left_labels = True\n",
    "        gl.right_labels = False\n",
    "        gl.xlines = True\n",
    "        gl.ylines = True\n",
    "        gl.ylocator = mticker.FixedLocator([30, 40, 50])\n",
    "        gl.xformatter = LONGITUDE_FORMATTER\n",
    "        gl.yformatter = LATITUDE_FORMATTER\n",
    "    return ax\n"
   ]
  },
  {
   "cell_type": "code",
   "execution_count": null,
   "metadata": {},
   "outputs": [],
   "source": [
    "months = [\"202102\", \"202104\", \"202107\", \"202110\"]\n"
   ]
  },
  {
   "cell_type": "code",
   "execution_count": null,
   "metadata": {},
   "outputs": [],
   "source": [
    "extents = [-125, -65, 22, 58]\n",
    "SIF_UNITS = \"740nm [W m$^{-2}$ sr$^{-1}$ $\\mu$m$^{-1}$]\"\n",
    "\n",
    "fig, axes = plt.subplots(\n",
    "    2, 1, figsize=(8, 8), subplot_kw={\"projection\": PROJECTION}, constrained_layout=True\n",
    ")\n",
    "\n",
    "prep_axes(axes[0], extents=extents, grid=True)\n",
    "field_prediction = xr.plot.imshow(\n",
    "    darray=ds_predictions.sel(month=\"2021-07\").squeeze()[\"predictions\"],\n",
    "    zorder=1,\n",
    "    transform=ccrs.PlateCarree(),\n",
    "    ax=axes[0],\n",
    "    cmap=cm.bamako_r,\n",
    "    vmin=0,\n",
    "    vmax=3.5,\n",
    "    add_colorbar=False,\n",
    "    add_labels=False,\n",
    ")\n",
    "axes[0].set_title(\"coSIF Predictions: 2021-07\", fontsize=13)\n",
    "cb1 = fig.colorbar(field_prediction, ax=axes[0], extend=\"both\")\n",
    "cb1.set_label(label=f\"SIF {SIF_UNITS}\", fontsize=13)\n",
    "cb1.outline.set_visible(False)\n",
    "\n",
    "prep_axes(axes[1], extents=extents, grid=True)\n",
    "field_error = xr.plot.imshow(\n",
    "    darray=np.sqrt(ds_predictions.sel(month=\"2021-07\").squeeze()[\"mspe\"]),\n",
    "    zorder=1,\n",
    "    transform=ccrs.PlateCarree(),\n",
    "    ax=axes[1],\n",
    "    cmap=cm.lajolla,\n",
    "    # vmin=0.05,\n",
    "    # vmax=0.305,\n",
    "    add_colorbar=False,\n",
    "    add_labels=False,\n",
    ")\n",
    "axes[1].set_title(\"coSIF RMSPE: 2021-07\", fontsize=13)\n",
    "cb2 = fig.colorbar(field_error, ax=axes[1])\n",
    "cb2.set_label(label=f\"SIF {SIF_UNITS}\", fontsize=13)\n",
    "cb2.outline.set_visible(False)\n",
    "\n",
    "\n",
    "fig.savefig(\"../figures/cokriging_results_202107.pdf\", dpi=300, bbox_inches=\"tight\")\n"
   ]
  }
 ],
 "metadata": {
  "language_info": {
   "name": "python"
  },
  "orig_nbformat": 4
 },
 "nbformat": 4,
 "nbformat_minor": 2
}
