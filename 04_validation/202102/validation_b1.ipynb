{
    "cells": [
        {
            "attachments": {},
            "cell_type": "markdown",
            "metadata": {},
            "source": [
                "# Within-sample validation against withheld validation block\n",
                "\n",
                "Leave out a block of data and predict the withheld data. Models include cokriging, kriging,\n",
                "and trend-only prediction"
            ]
        },
        {
            "cell_type": "code",
            "execution_count": null,
            "metadata": {},
            "outputs": [],
            "source": [
                "import sys\n",
                "\n",
                "sys.path.insert(0, \"../../source\")\n"
            ]
        },
        {
            "cell_type": "code",
            "execution_count": null,
            "metadata": {},
            "outputs": [],
            "source": [
                "from copy import deepcopy\n",
                "import pickle\n",
                "import numpy as np\n",
                "import pandas as pd\n",
                "import xarray as xr\n",
                "import statsmodels.api as sm\n",
                "\n",
                "import matplotlib.pyplot as plt\n",
                "import seaborn as sns\n",
                "\n",
                "import plot\n",
                "import prediction\n",
                "import validation\n"
            ]
        },
        {
            "cell_type": "code",
            "execution_count": null,
            "metadata": {},
            "outputs": [],
            "source": [
                "from dask.distributed import Client\n",
                "\n",
                "# NOTE: update depending on which node is used\n",
                "N_WORKERS = 84\n",
                "client = Client(n_workers=N_WORKERS)\n"
            ]
        },
        {
            "cell_type": "code",
            "execution_count": null,
            "metadata": {},
            "outputs": [],
            "source": [
                "# number of nearest observations used in point predictions\n",
                "NUM_LOCAL_VALUES = 150\n",
                "\n",
                "# data selection\n",
                "YEAR = 2021\n",
                "MONTH = 2\n",
                "# XCO2 months ahead of SIF\n",
                "OFFSET = 1\n",
                "\n",
                "year_month_str = f\"{YEAR}0{MONTH}\" if MONTH < 10 else f\"{YEAR}{MONTH}\"\n"
            ]
        },
        {
            "cell_type": "code",
            "execution_count": null,
            "metadata": {},
            "outputs": [],
            "source": [
                "month_xco2 = MONTH + OFFSET\n",
                "date_sif = f\"{YEAR}-{MONTH}-01\"\n",
                "date_xco2 = f\"{YEAR}-{month_xco2}-01\"\n",
                "\n",
                "with xr.open_dataset(\n",
                "    \"../../data/intermediate/OCO2_005deg_monthly_north_america_with_basis.nc4\"\n",
                ") as ds:\n",
                "    basis_vars = [x for x in list(ds.keys()) if x.startswith(\"B\")]\n",
                "    ds_sif = ds[[\"sif\", \"sif_var\"] + basis_vars].sel(time=f\"{YEAR}-{MONTH}\").squeeze()\n"
            ]
        },
        {
            "cell_type": "code",
            "execution_count": null,
            "metadata": {},
            "outputs": [],
            "source": [
                "BLOCK_NAME = \"b1\"\n",
                "block_conditions = (\n",
                "    (ds_sif[\"lon\"] > -95) & (ds_sif[\"lon\"] < -90) & (ds_sif[\"lat\"] > 40) & (ds_sif[\"lat\"] < 45)\n",
                ")\n",
                "ds_test = ds_sif.where(block_conditions)\n",
                "\n",
                "plot.plot_da(ds_test[\"sif\"])\n"
            ]
        },
        {
            "cell_type": "code",
            "execution_count": null,
            "metadata": {},
            "outputs": [],
            "source": [
                "df_test = (\n",
                "    ds_test.to_dataframe()\n",
                "    .dropna(subset=\"sif\")\n",
                "    .reset_index()[[\"lat\", \"lon\", \"sif\", \"sif_var\"] + basis_vars]\n",
                "    .rename(columns={\"sif\": \"data\", \"sif_var\": \"me_variance\"})\n",
                ")\n",
                "df_me_variance = df_test.loc[:, [\"lat\", \"lon\", \"me_variance\"]]\n",
                "df_test = df_test.drop(columns=\"me_variance\")\n",
                "ds_covariates = (\n",
                "    df_test.set_index([\"lat\", \"lon\"]).to_xarray().drop_vars([\"data\", \"B1\", \"B10\", \"B20\"])\n",
                ")\n",
                "df_test = df_test.loc[:, [\"lat\", \"lon\", \"data\"]]\n",
                "pcoords = df_test.loc[:, [\"lat\", \"lon\"]]\n",
                "df_test.to_csv(f\"../../data/intermediate/validation/{year_month_str}/df_test_{BLOCK_NAME}.csv\")\n",
                "df_test\n"
            ]
        },
        {
            "cell_type": "code",
            "execution_count": null,
            "metadata": {},
            "outputs": [],
            "source": [
                "ds_covariates\n"
            ]
        },
        {
            "cell_type": "code",
            "execution_count": null,
            "metadata": {},
            "outputs": [],
            "source": [
                "sns.histplot(df_test[\"data\"].values)\n"
            ]
        },
        {
            "attachments": {},
            "cell_type": "markdown",
            "metadata": {},
            "source": [
                "## Cokriging"
            ]
        },
        {
            "cell_type": "code",
            "execution_count": null,
            "metadata": {},
            "outputs": [],
            "source": [
                "# Load multifield and model objects\n",
                "with open(f\"../../data/intermediate/models/{year_month_str}/fields.pickle\", \"rb\") as f:\n",
                "    mf = pickle.load(f)\n",
                "\n",
                "with open(f\"../../data/intermediate/models/{year_month_str}/bivariate_model.pickle\", \"rb\") as f:\n",
                "    bivariate_matern = pickle.load(f)\n"
            ]
        },
        {
            "cell_type": "code",
            "execution_count": null,
            "metadata": {},
            "outputs": [],
            "source": [
                "# Make validation predictions\n",
                "cokrige = prediction.Predictor(bivariate_matern, mf)\n",
                "dict_cokrige = cokrige.validation_prediction(\n",
                "    0,\n",
                "    pcoords,\n",
                "    df_me_variance,\n",
                "    ds_covariates,\n",
                "    num_local_values=NUM_LOCAL_VALUES,\n",
                ")\n",
                "ds_cokrige = dict_cokrige[\"ds\"]\n",
                "ds_cokrige\n"
            ]
        },
        {
            "cell_type": "code",
            "execution_count": null,
            "metadata": {},
            "outputs": [],
            "source": [
                "# Save multivariate predictive distribution\n",
                "pd.DataFrame(dict_cokrige[\"predictive_mean\"]).to_csv(\n",
                "    f\"../../data/intermediate/validation/{year_month_str}/mean_cokriging_{BLOCK_NAME}.csv\",\n",
                "    header=None,\n",
                "    index=None,\n",
                ")\n",
                "\n",
                "pd.DataFrame(dict_cokrige[\"predictive_covariance_matrix\"]).to_csv(\n",
                "    f\"../../data/intermediate/validation/{year_month_str}/covariance_cokriging_{BLOCK_NAME}.csv\",\n",
                "    header=None,\n",
                "    index=None,\n",
                ")\n"
            ]
        },
        {
            "cell_type": "code",
            "execution_count": null,
            "metadata": {},
            "outputs": [],
            "source": [
                "# Prepare validation results\n",
                "df_cokrige = (\n",
                "    ds_cokrige.to_dataframe().reset_index()[[\"lat\", \"lon\", \"predictions\", \"rmspe\"]].dropna()\n",
                ")\n",
                "\n",
                "df_test_cokrige = validation.prepare_validation_results(\n",
                "    df_cokrige,\n",
                "    df_test,\n",
                "    method=\"cokriging\",\n",
                "    month=year_month_str,\n",
                "    region=BLOCK_NAME,\n",
                ")\n",
                "\n",
                "# Compute QQ-plot quantiles\n",
                "quantiles_cokrige = sm.ProbPlot(df_test_cokrige[\"ratio\"].values)\n",
                "df_quantiles_cokrige = pd.DataFrame(\n",
                "    dict(\n",
                "        sample=quantiles_cokrige.sample_quantiles,\n",
                "        theoretical=quantiles_cokrige.theoretical_quantiles,\n",
                "        Method=\"Cokriging\",\n",
                "    )\n",
                ")\n"
            ]
        },
        {
            "attachments": {},
            "cell_type": "markdown",
            "metadata": {},
            "source": [
                "## Kriging"
            ]
        },
        {
            "cell_type": "code",
            "execution_count": null,
            "metadata": {},
            "outputs": [],
            "source": [
                "client.close()\n"
            ]
        },
        {
            "cell_type": "code",
            "execution_count": null,
            "metadata": {},
            "outputs": [],
            "source": [
                "client = Client(n_workers=N_WORKERS)\n"
            ]
        },
        {
            "cell_type": "code",
            "execution_count": null,
            "metadata": {},
            "outputs": [],
            "source": [
                "# Isolate SIF field only\n",
                "mf_univariate = deepcopy(mf)\n",
                "mf_univariate.fields = np.array([mf_univariate.fields[0]])\n",
                "mf_univariate.n_procs = 1\n",
                "\n",
                "# Load univariate model\n",
                "with open(\n",
                "    f\"../../data/intermediate/models/{year_month_str}/univariate_model.pickle\", \"rb\"\n",
                ") as f:\n",
                "    univariate_matern = pickle.load(f)\n"
            ]
        },
        {
            "cell_type": "code",
            "execution_count": null,
            "metadata": {},
            "outputs": [],
            "source": [
                "# Make validation predictions\n",
                "krige = prediction.Predictor(univariate_matern, mf_univariate)\n",
                "dict_krige = krige.validation_prediction(\n",
                "    0,\n",
                "    pcoords,\n",
                "    df_me_variance,\n",
                "    ds_covariates,\n",
                "    num_local_values=NUM_LOCAL_VALUES,\n",
                ")\n",
                "ds_krige = dict_krige[\"ds\"]\n",
                "ds_krige\n"
            ]
        },
        {
            "cell_type": "code",
            "execution_count": null,
            "metadata": {},
            "outputs": [],
            "source": [
                "# Save multivariate predictive distribution\n",
                "pd.DataFrame(dict_krige[\"predictive_mean\"]).to_csv(\n",
                "    f\"../../data/intermediate/validation/{year_month_str}/mean_kriging_{BLOCK_NAME}.csv\",\n",
                "    header=None,\n",
                "    index=None,\n",
                ")\n",
                "\n",
                "pd.DataFrame(dict_krige[\"predictive_covariance_matrix\"]).to_csv(\n",
                "    f\"../../data/intermediate/validation/{year_month_str}/covariance_kriging_{BLOCK_NAME}.csv\",\n",
                "    header=None,\n",
                "    index=None,\n",
                ")\n"
            ]
        },
        {
            "cell_type": "code",
            "execution_count": null,
            "metadata": {},
            "outputs": [],
            "source": [
                "# Prepare validation results\n",
                "df_krige = (\n",
                "    ds_krige.to_dataframe().reset_index()[[\"lat\", \"lon\", \"predictions\", \"rmspe\"]].dropna()\n",
                ")\n",
                "\n",
                "df_test_krige = validation.prepare_validation_results(\n",
                "    df_krige,\n",
                "    df_test,\n",
                "    method=\"kriging\",\n",
                "    month=year_month_str,\n",
                "    region=BLOCK_NAME,\n",
                ")\n",
                "\n",
                "# Compute QQ-plot quantiles\n",
                "quantiles_krige = sm.ProbPlot(df_test_krige[\"ratio\"].values)\n",
                "df_quantiles_krige = pd.DataFrame(\n",
                "    dict(\n",
                "        sample=quantiles_krige.sample_quantiles,\n",
                "        theoretical=quantiles_krige.theoretical_quantiles,\n",
                "        Method=\"Kriging\",\n",
                "    )\n",
                ")\n"
            ]
        },
        {
            "attachments": {},
            "cell_type": "markdown",
            "metadata": {},
            "source": [
                "## Trend-only"
            ]
        },
        {
            "cell_type": "code",
            "execution_count": null,
            "metadata": {},
            "outputs": [],
            "source": [
                "# Prepare validation results\n",
                "df_trend = (\n",
                "    ds_krige.to_dataframe()\n",
                "    .reset_index()[[\"lat\", \"lon\", \"trend_surface\", \"trend_surface_rmspe\"]]\n",
                "    .dropna()\n",
                "    .rename(columns={\"trend_surface\": \"predictions\", \"trend_surface_rmspe\": \"rmspe\"})\n",
                ")\n",
                "\n",
                "df_test_trend = validation.prepare_validation_results(\n",
                "    df_trend,\n",
                "    df_test,\n",
                "    method=\"Trend surface\",\n",
                "    month=year_month_str,\n",
                "    region=BLOCK_NAME,\n",
                ")\n",
                "\n",
                "# Compute QQ-plot quantiles\n",
                "quantiles_trend = sm.ProbPlot(df_test_trend[\"ratio\"].values)\n",
                "df_quantiles_trend = pd.DataFrame(\n",
                "    dict(\n",
                "        sample=quantiles_trend.sample_quantiles,\n",
                "        theoretical=quantiles_trend.theoretical_quantiles,\n",
                "        Method=\"Trend surface\",\n",
                "    )\n",
                ")\n"
            ]
        },
        {
            "cell_type": "code",
            "execution_count": null,
            "metadata": {},
            "outputs": [],
            "source": [
                "# Save multivariate predictive distribution\n",
                "df_test_trend[\"predictions\"].to_csv(\n",
                "    f\"../../data/intermediate/validation/{year_month_str}/mean_trend_{BLOCK_NAME}.csv\",\n",
                "    header=None,\n",
                "    index=None,\n",
                ")\n",
                "pd.DataFrame(np.diag(df_test_trend[\"rmspe\"].values ** 2)).to_csv(\n",
                "    f\"../../data/intermediate/validation/{year_month_str}/covariance_trend_{BLOCK_NAME}.csv\",\n",
                "    header=None,\n",
                "    index=None,\n",
                ")\n"
            ]
        },
        {
            "attachments": {},
            "cell_type": "markdown",
            "metadata": {},
            "source": [
                "## Collect results"
            ]
        },
        {
            "cell_type": "code",
            "execution_count": null,
            "metadata": {},
            "outputs": [],
            "source": [
                "df_validation_results = pd.concat(\n",
                "    [df_test_trend, df_test_krige, df_test_cokrige], axis=0\n",
                ").reset_index(drop=True)\n",
                "df_validation_results.to_csv(\n",
                "    f\"../../data/intermediate/validation/{year_month_str}/validation_results_{BLOCK_NAME}.csv\"\n",
                ")\n",
                "df_validation_results\n"
            ]
        },
        {
            "cell_type": "code",
            "execution_count": null,
            "metadata": {},
            "outputs": [],
            "source": [
                "df_quantiles = pd.concat(\n",
                "    [df_quantiles_trend, df_quantiles_krige, df_quantiles_cokrige], axis=0\n",
                ").reset_index(drop=True)\n",
                "df_quantiles.to_csv(\n",
                "    f\"../../data/intermediate/validation/{year_month_str}/validation_ratio_quantiles_{BLOCK_NAME}.csv\"\n",
                ")\n",
                "\n",
                "df_quantiles\n"
            ]
        }
    ],
    "metadata": {
        "kernelspec": {
            "display_name": "Python 3.9.13 ('geostat')",
            "language": "python",
            "name": "python3"
        },
        "language_info": {
            "codemirror_mode": {
                "name": "ipython",
                "version": 3
            },
            "file_extension": ".py",
            "mimetype": "text/x-python",
            "name": "python",
            "nbconvert_exporter": "python",
            "pygments_lexer": "ipython3",
            "version": "3.9.13"
        },
        "orig_nbformat": 4,
        "vscode": {
            "interpreter": {
                "hash": "294b043c4eeec97971cbabc1052da2b5b80b0d5aa6b8a4a08ec44e7eeeb652a0"
            }
        }
    },
    "nbformat": 4,
    "nbformat_minor": 2
}
